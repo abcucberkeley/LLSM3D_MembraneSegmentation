{
 "cells": [
  {
   "cell_type": "markdown",
   "metadata": {},
   "source": [
    "# Data Preparation"
   ]
  },
  {
   "cell_type": "markdown",
   "metadata": {},
   "source": [
    "### Initial Imports"
   ]
  },
  {
   "cell_type": "code",
   "execution_count": null,
   "metadata": {
    "scrolled": true
   },
   "outputs": [],
   "source": [
    "import numpy as np\n",
    "import tifffile\n",
    "from tqdm import tqdm\n",
    "import matplotlib.pyplot as plt\n",
    "import random\n",
    "import matplotlib.pyplot as plt\n",
    "import scipy \n",
    "import tensorflow_addons as tfa\n",
    "import tensorflow as tf\n",
    "from tifffile import imwrite\n",
    "import skimage \n",
    "from skimage import morphology"
   ]
  },
  {
   "cell_type": "markdown",
   "metadata": {},
   "source": [
    "## Mask Binarization"
   ]
  },
  {
   "cell_type": "markdown",
   "metadata": {},
   "source": [
    "### Loading Masks"
   ]
  },
  {
   "cell_type": "code",
   "execution_count": null,
   "metadata": {},
   "outputs": [],
   "source": [
    "z = input('Enter the path to your file: \\n')\n",
    "mask = tifffile.imread('{}'.format(z))"
   ]
  },
  {
   "cell_type": "code",
   "execution_count": null,
   "metadata": {},
   "outputs": [],
   "source": [
    "# Finding unique values in mask\n",
    "arr = np.unique(mask6)\n",
    "print(arr)"
   ]
  },
  {
   "cell_type": "code",
   "execution_count": null,
   "metadata": {},
   "outputs": [],
   "source": [
    "# Deleting values of 0 and 1 from unique values array for masks. \n",
    "arr = np.delete(arr, 0) # use as many times as needed "
   ]
  },
  {
   "cell_type": "markdown",
   "metadata": {},
   "source": [
    "### Erosion Loop to Convert to Binary Masks"
   ]
  },
  {
   "cell_type": "code",
   "execution_count": null,
   "metadata": {},
   "outputs": [],
   "source": [
    "def binarize(mask, arr): # arr is an array with all unique values of mask except 0 and 1\n",
    "    mask_bw = 0 * mask # creating new array of the same size as mask, except all 0s\n",
    "    for i in tqdm(range(len(arr))): \n",
    "        bw_i = (mask == arr[i]) # setting bw_i equal to every instance of a unique pixel value in mask\n",
    "        bw_i = skimage.morphology.erosion(bw_i) # performing erosion\n",
    "        mask_bw = mask_bw + bw_i \n",
    "    return mask_bw"
   ]
  },
  {
   "cell_type": "code",
   "execution_count": null,
   "metadata": {},
   "outputs": [],
   "source": [
    "mask_bm = binarize(mask)"
   ]
  },
  {
   "cell_type": "markdown",
   "metadata": {},
   "source": [
    "### Saving Masks"
   ]
  },
  {
   "cell_type": "code",
   "execution_count": null,
   "metadata": {},
   "outputs": [],
   "source": [
    "# Save File to Desired Directory \n",
    "i = input('Enter your desired path for your file:')\n",
    "tifffile.imwrite('{}'.format(i), mask_bm)"
   ]
  },
  {
   "cell_type": "markdown",
   "metadata": {},
   "source": [
    "## Developing Labels with Only Cell Membrane"
   ]
  },
  {
   "cell_type": "markdown",
   "metadata": {},
   "source": [
    "### Load Original Mask"
   ]
  },
  {
   "cell_type": "code",
   "execution_count": null,
   "metadata": {},
   "outputs": [],
   "source": [
    "# Input path to file to read original mask\n",
    "k = input('Enter the path to your file: \\n')\n",
    "mask = tifffile.imread('{}'.format(k))"
   ]
  },
  {
   "cell_type": "markdown",
   "metadata": {},
   "source": [
    "### Loading Binary (Eroded) Masks  "
   ]
  },
  {
   "cell_type": "code",
   "execution_count": null,
   "metadata": {},
   "outputs": [],
   "source": [
    "# Input path to file to read binary mask\n",
    "j = input('Enter the path to your file: ')\n",
    "binary_mask = tifffile.imread('{}'.format(j))"
   ]
  },
  {
   "cell_type": "markdown",
   "metadata": {},
   "source": [
    "## Removing Cytosolic Values"
   ]
  },
  {
   "cell_type": "markdown",
   "metadata": {},
   "source": [
    "### Subtracting Cytosol from Eroded Mask"
   ]
  },
  {
   "cell_type": "code",
   "execution_count": null,
   "metadata": {},
   "outputs": [],
   "source": [
    "def rm_cytosol(mask, binary_mask):\n",
    "    b_mask = mask>1 # mask --> original mask\n",
    "    final_mask = binary_mask - b_mask\n",
    "    return final_mask"
   ]
  },
  {
   "cell_type": "markdown",
   "metadata": {},
   "source": [
    "### Converting Mask to Boolean"
   ]
  },
  {
   "cell_type": "code",
   "execution_count": null,
   "metadata": {},
   "outputs": [],
   "source": [
    "def conv_to_boolean(final_mask):\n",
    "    final_mask.dtype = np.bool \n",
    "    final_mask = final_mask[::, ::, 1::2]\n",
    "    return final_mask"
   ]
  },
  {
   "cell_type": "markdown",
   "metadata": {},
   "source": [
    "### Creating Final Mask"
   ]
  },
  {
   "cell_type": "code",
   "execution_count": null,
   "metadata": {},
   "outputs": [],
   "source": [
    "final_mask = rm_cytosol(mask, binary_mask)\n",
    "final_mask = conv_to_boolean(final_mask)"
   ]
  },
  {
   "cell_type": "markdown",
   "metadata": {},
   "source": [
    "### Saving Final Mask"
   ]
  },
  {
   "cell_type": "code",
   "execution_count": null,
   "metadata": {},
   "outputs": [],
   "source": [
    "i = input(\"Enter your desired path for your file: \")\n",
    "tifffile.imwrite('{}'.format(i), final_mask)"
   ]
  },
  {
   "cell_type": "markdown",
   "metadata": {},
   "source": [
    "##   "
   ]
  },
  {
   "cell_type": "markdown",
   "metadata": {},
   "source": [
    "##   "
   ]
  },
  {
   "cell_type": "markdown",
   "metadata": {},
   "source": [
    "# Image Scaling"
   ]
  },
  {
   "cell_type": "markdown",
   "metadata": {},
   "source": [
    "## Load Raw Image"
   ]
  },
  {
   "cell_type": "code",
   "execution_count": null,
   "metadata": {},
   "outputs": [],
   "source": [
    "i = input('Enter the path to your raw image: \\n')\n",
    "raw_image = tifffile.imread('{}'.format(i))"
   ]
  },
  {
   "cell_type": "markdown",
   "metadata": {},
   "source": [
    "## Identifying Percentiles for Intensity "
   ]
  },
  {
   "cell_type": "code",
   "execution_count": null,
   "metadata": {},
   "outputs": [],
   "source": [
    "ranges = np.array([1,  2,  3,  4,  5,  6,  7,  8,  9, 10, 11, 12, 13, 14, 15, 16, 17,\n",
    "       18, 19, 20, 21, 22, 23, 24, 25, 26, 27, 28, 29, 30, 31, 32, 33, 34,\n",
    "       35, 36, 37, 38, 39, 40, 41, 42, 43, 44, 45, 46, 47, 48, 49, 50, 51,\n",
    "       52, 53, 54, 55, 56, 57, 58, 59, 60, 61, 62, 63, 64, 65, 66, 67, 68,\n",
    "       69, 70, 71, 72, 73, 74, 75, 76, 77, 78, 79, 80, 81, 82, 83, 84, 85,\n",
    "       86, 87, 88, 89, 90, 91, 92, 93, 94, 95, 95.1, 95.2, 95.3, 95.4, 95.5, 95.6, 95.7, 95.8, 95.9, 96. , 96.1,\n",
    "       96.2, 96.3, 96.4, 96.5, 96.6, 96.7, 96.8, 96.9, 97. , 97.1, 97.2,\n",
    "       97.3, 97.4, 97.5, 97.6, 97.7, 97.8, 97.9, 98. , 98.1, 98.2, 98.3,\n",
    "       98.4, 98.5, 98.6, 98.7, 98.8, 98.9, 99.,  99.05,  99.1 ,  99.15,  99.2 ,  99.25,  99.3 ,  99.35,  99.4 ,\n",
    "        99.45,  99.5 ,  99.55,  99.6 ,  99.65,  99.7 ,  99.75,  99.8 ,\n",
    "        99.85,  99.9 ,  99.95, 100.  ])"
   ]
  },
  {
   "cell_type": "markdown",
   "metadata": {},
   "source": [
    "## Calculate Image Intensity At Every Percentile"
   ]
  },
  {
   "cell_type": "code",
   "execution_count": null,
   "metadata": {},
   "outputs": [],
   "source": [
    "img = np.ndarray.flatten(raw_image)\n",
    "intensity = np.zeros(shape=(155,))\n",
    "for i in tqdm(range(len(ranges))): \n",
    "    intensity_at_percentile = np.percentile(raw_image, ranges[i])\n",
    "    intensity[i] = intensity_at_percentile"
   ]
  },
  {
   "cell_type": "markdown",
   "metadata": {},
   "source": [
    "## Plot Intensity Profile on Interactive Plot"
   ]
  },
  {
   "cell_type": "markdown",
   "metadata": {},
   "source": [
    "### How to Use Plot \n",
    "Based on the intensity profile, find the pixel value when the intensity is at the 99.99th percentile. This pixel value (on x-axis) is what you will use for your rangeIn input for the next function. "
   ]
  },
  {
   "cell_type": "code",
   "execution_count": null,
   "metadata": {},
   "outputs": [],
   "source": [
    "%matplotlib notebook\n",
    "# import matplotlib.pyplot as plt\n",
    "plt.figure(figsize=(10,10))\n",
    "plt.title('Intensity vs Percentile', fontsize=26)\n",
    "plt.xlabel('Intensity', fontsize=20)\n",
    "plt.ylabel('Percentile', fontsize=20)\n",
    "plt.yscale('log')\n",
    "plt.plot(intensity, ranges)\n",
    "plt.show()"
   ]
  },
  {
   "cell_type": "markdown",
   "metadata": {},
   "source": [
    "## Re-Scaling/Normalizing Image to uint8"
   ]
  },
  {
   "cell_type": "code",
   "execution_count": null,
   "metadata": {},
   "outputs": [],
   "source": [
    "def scaleContrast(raw_img, rangeIn=(0,800), rangeOut=(0,255)):\n",
    "    x = rangeOut[1] - rangeIn[0]\n",
    "    if x == 0:\n",
    "        out = np.zeros(shape=raw_img.shape)\n",
    "    else: \n",
    "       out = (raw_img-rangeIn[0])/np.diff(rangeIn) * np.diff(rangeOut) + rangeOut[0]\n",
    "    \n",
    "    for i in tqdm(range(len(out))):\n",
    "        for j in range(len(out[i])):\n",
    "            for k in range(len(out[i][j])):\n",
    "                if out[i][j][k] > rangeOut[1]:\n",
    "                    out[i][j][k] = rangeOut[1]\n",
    "    return np.uint8(out)"
   ]
  },
  {
   "cell_type": "markdown",
   "metadata": {},
   "source": [
    "## Creating Scaled/Normalized Image"
   ]
  },
  {
   "cell_type": "code",
   "execution_count": null,
   "metadata": {},
   "outputs": [],
   "source": [
    "img_scaled = scaleContrast(raw_image, rangeIn=(0, 530), rangeOut=(0,255)) # Set rangeIn based on intensity profile"
   ]
  },
  {
   "cell_type": "markdown",
   "metadata": {},
   "source": [
    "## Saving Scaled 8-bit Image"
   ]
  },
  {
   "cell_type": "code",
   "execution_count": null,
   "metadata": {},
   "outputs": [],
   "source": [
    "# Check if scaled image is created properly --> pixel values range should be rangeOut\n",
    "%matplotlib notebook \n",
    "plt.figure(figsize=(10,10))\n",
    "plt.imshow(img_scaled[183])"
   ]
  },
  {
   "cell_type": "code",
   "execution_count": null,
   "metadata": {},
   "outputs": [],
   "source": [
    "# Return to normal Matplotlib mode\n",
    "%matplotlib inline"
   ]
  },
  {
   "cell_type": "code",
   "execution_count": null,
   "metadata": {
    "scrolled": true
   },
   "outputs": [],
   "source": [
    "# Save the 8-bit Image\n",
    "k = input('Enter your desired file path for the new scaled image: \\n')\n",
    "tifffile.imwrite('{}'.format(k), img_scaled)"
   ]
  },
  {
   "cell_type": "markdown",
   "metadata": {},
   "source": [
    "##   "
   ]
  },
  {
   "cell_type": "markdown",
   "metadata": {},
   "source": [
    "##   "
   ]
  },
  {
   "cell_type": "markdown",
   "metadata": {},
   "source": [
    "# Data Binning (2x2x2) + Augmentation"
   ]
  },
  {
   "cell_type": "markdown",
   "metadata": {},
   "source": [
    "### Reading 3D Images using tifffile"
   ]
  },
  {
   "cell_type": "code",
   "execution_count": null,
   "metadata": {},
   "outputs": [],
   "source": [
    "img1 = tifffile.imread('/clusterfs/fiona/zeeshan/final_imgs/scaled_imgs/final_raw_scaled_img3_1.tif')\n",
    "img2 = tifffile.imread('/clusterfs/fiona/zeeshan/final_imgs/scaled_imgs/final_raw_scaled_img3_2.tif')\n",
    "img3 = tifffile.imread('/clusterfs/fiona/zeeshan/final_imgs/scaled_imgs/final_raw_scaled_img3_3.tif')\n",
    "img4 = tifffile.imread('/clusterfs/fiona/zeeshan/final_imgs/scaled_imgs/final_raw_scaled_img3_4.tif')\n",
    "img5 = tifffile.imread('/clusterfs/fiona/zeeshan/final_imgs/scaled_imgs/final_raw_scaled_img3_5.tif')\n",
    "img6 = tifffile.imread('/clusterfs/fiona/zeeshan/final_imgs/scaled_imgs/final_raw_scaled_img3_6.tif')\n",
    "# img7 = tifffile.imread('/clusterfs/fiona/zeeshan/final_imgs/scaled_imgs/final_scaled_img2_1.tif')\n",
    "# img8 = tifffile.imread('/clusterfs/fiona/zeeshan/final_imgs/scaled_imgs/final_scaled_img2_2.tif')\n",
    "img9 = tifffile.imread('/clusterfs/fiona/zeeshan/final_imgs/scaled_imgs/final_scaled_img_1.tif')\n",
    "img10 = tifffile.imread('/clusterfs/fiona/zeeshan/final_imgs/scaled_imgs/final_scaled_img_2.tif')\n",
    "img11 = tifffile.imread('/clusterfs/fiona/zeeshan/final_imgs/scaled_imgs/final_scaled_img_3.tif')\n",
    "img1 = img1[1::2, 1::2, 1::2]\n",
    "img2 = img2[1::2, 1::2, 1::2]\n",
    "img3 = img3[1::2, 1::2, 1::2]\n",
    "img4 = img4[1::2, 1::2, 1::2]\n",
    "img5 = img5[1::2, 1::2, 1::2]\n",
    "img6 = img6[1::2, 1::2, 1::2]\n",
    "# img7 = img7[1::2, 1::2, 1::2]  binning not needed for img7\n",
    "# img8 = img8[1::2, 1::2, 1::2]\n",
    "img9 = img9[1::2, 1::2, 1::2]\n",
    "img10 = img10[1::2, 1::2, 1::2]\n",
    "img11 = img11[1::2, 1::2, 1::2]\n",
    "print('img1: ' + f\"{img1.shape}\" + ' img2: ' + f\"{img2.shape}\" + ' img3: ' + f\"{img3.shape}\" + ' img4: ' + f\"{img4.shape}\" + ' img5: ' + f\"{img5.shape}\" + ' img6: ' + f\"{img6.shape}\"  + ' img9: ' + f\"{img9.shape}\" + ' img10: ' + f\"{img10.shape}\" + ' img11: ' + f\"{img11.shape}\")\n",
    " \n"
   ]
  },
  {
   "cell_type": "markdown",
   "metadata": {},
   "source": [
    "### Reading image masks using tifffile"
   ]
  },
  {
   "cell_type": "code",
   "execution_count": null,
   "metadata": {},
   "outputs": [],
   "source": [
    "mask1 = tifffile.imread('/clusterfs/fiona/zeeshan/final_imgs/binary_masks/final_raw_bm3_1.tif')\n",
    "mask2 = tifffile.imread('/clusterfs/fiona/zeeshan/final_imgs/binary_masks/final_raw_bm3_2.tif')\n",
    "mask3 = tifffile.imread('/clusterfs/fiona/zeeshan/final_imgs/binary_masks/final_raw_bm3_3.tif')\n",
    "mask4 = tifffile.imread('/clusterfs/fiona/zeeshan/final_imgs/binary_masks/final_raw_bm3_4.tif')\n",
    "mask5 = tifffile.imread('/clusterfs/fiona/zeeshan/final_imgs/binary_masks/final_raw_bm3_5.tif')\n",
    "mask6 = tifffile.imread('/clusterfs/fiona/zeeshan/final_imgs/binary_masks/final_raw_bm3_6.tif')\n",
    "# mask7 = tifffile.imread('/clusterfs/fiona/zeeshan/final_imgs/binary_masks/final_bm2_1.tif')\n",
    "# mask8 = tifffile.imread('/clusterfs/fiona/zeeshan/final_imgs/binary_masks/final_bm2_2.tif')\n",
    "mask9 = tifffile.imread('/clusterfs/fiona/zeeshan/final_imgs/binary_masks/final_bm_1.tif')\n",
    "mask10 = tifffile.imread('/clusterfs/fiona/zeeshan/final_imgs/binary_masks/final_bm_2.tif')\n",
    "mask11 = tifffile.imread('/clusterfs/fiona/zeeshan/final_imgs/binary_masks/final_bm_3.tif')\n",
    "mask1 = mask1[1::2, 1::2, 1::2]\n",
    "mask2 = mask2[1::2, 1::2, 1::2]\n",
    "mask3 = mask3[1::2, 1::2, 1::2]\n",
    "mask4 = mask4[1::2, 1::2, 1::2]\n",
    "mask5 = mask5[1::2, 1::2, 1::2]\n",
    "mask6 = mask6[1::2, 1::2, 1::2]\n",
    "# mask7 = mask7[1::2, 1::2, 1::2]\n",
    "# mask8 = mask8[1::2, 1::2, 1::2]\n",
    "mask9 = mask9[1::2, 1::2, 1::2]\n",
    "mask10 = mask10[1::2, 1::2, 1::2]\n",
    "mask11 = mask11[1::2, 1::2, 1::2]\n",
    "\n",
    "print(' Mask1: ' + f\"{mask1.shape}\" + ' Mask2: ' + f\"{mask2.shape}\" + ' Mask3: ' + f\"{mask3.shape}\" + ' Mask4: ' + f\"{mask4.shape}\" + ' Mask5: ' + f\"{mask5.shape}\" + ' Mask6: ' + f\"{mask6.shape}\"  + ' Mask9: ' + f\"{mask9.shape}\" + ' Mask10: ' + f\"{mask10.shape}\" + ' Mask11: ' + f\"{mask11.shape}\")\n"
   ]
  },
  {
   "cell_type": "code",
   "execution_count": null,
   "metadata": {},
   "outputs": [],
   "source": [
    "# Converting masks from bool to uint8 in order to use augmentation functions\n",
    "mask1.dtype = np.uint8\n",
    "mask2.dtype = np.uint8\n",
    "mask3.dtype = np.uint8\n",
    "mask4.dtype = np.uint8\n",
    "mask5.dtype = np.uint8\n",
    "mask6.dtype = np.uint8\n",
    "# mask7.dtype = np.uint8\n",
    "# mask8.dtype = np.uint8\n",
    "mask9.dtype = np.uint8\n",
    "mask10.dtype = np.uint8\n",
    "mask11.dtype = np.uint8"
   ]
  },
  {
   "cell_type": "markdown",
   "metadata": {},
   "source": [
    "# Image Augmentation Functions"
   ]
  },
  {
   "cell_type": "markdown",
   "metadata": {},
   "source": [
    "### Cropping Function (produces random chunks)"
   ]
  },
  {
   "cell_type": "code",
   "execution_count": null,
   "metadata": {},
   "outputs": [],
   "source": [
    "def crop_img_mask(img, mask, chunkh, chunkw, chunkl, imgh, imgw, imgl):\n",
    "        start_h = random.randint(0, imgh-chunkh)\n",
    "        start_w = random.randint(0, imgw-chunkw)\n",
    "        start_l = random.randint(0, imgl-chunkl)\n",
    "        \n",
    "        cropped_img = img[start_h:start_h+chunkh, start_w:start_w+chunkw, start_l:start_l+chunkl]\n",
    "        cropped_mask = mask[start_h:start_h+chunkh, start_w:start_w+chunkw, start_l:start_l+chunkl]\n",
    "        \n",
    "        if (cropped_mask.shape == (chunkh, chunkw, chunkl)) & (cropped_img.shape == (chunkh, chunkw, chunkl)):                                       \n",
    "            return cropped_img , cropped_mask"
   ]
  },
  {
   "cell_type": "markdown",
   "metadata": {},
   "source": [
    "### Rotation and Flip "
   ]
  },
  {
   "cell_type": "code",
   "execution_count": null,
   "metadata": {},
   "outputs": [],
   "source": [
    "def rotation(cropped_img, cropped_mask):\n",
    "    cropped_img = tfa.image.rotate(cropped_img, tf.constant((2*np.pi)/2), interpolation=\"BILINEAR\")\n",
    "    cropped_mask = tfa.image.rotate(cropped_mask, tf.constant((2*np.pi)/2), interpolation=\"BILINEAR\")\n",
    "    return cropped_img, cropped_mask"
   ]
  },
  {
   "cell_type": "code",
   "execution_count": null,
   "metadata": {},
   "outputs": [],
   "source": [
    "def flip_img(cropped_img, cropped_mask): \n",
    "    cropped_img = tf.image.flip_left_right(cropped_img)\n",
    "    cropped_mask = tf.image.flip_left_right(cropped_mask)\n",
    "    cropped_img = tf.image.flip_up_down(cropped_img)\n",
    "    cropped_mask = tf.image.flip_up_down(cropped_mask) \n",
    "    return cropped_img, cropped_mask"
   ]
  },
  {
   "cell_type": "markdown",
   "metadata": {},
   "source": [
    "### Random Augmentation (Crop + Rotation + Rotation)"
   ]
  },
  {
   "cell_type": "code",
   "execution_count": null,
   "metadata": {},
   "outputs": [],
   "source": [
    "def random_augmentation(img, mask, chunkh, chunkw, chunkl, imgh, imgw, imgl):\n",
    "    \n",
    "    cropped_img, cropped_mask = crop_img_mask(img, mask, chunkh, chunkw, chunkl, imgh, imgw, imgl)\n",
    "\n",
    "    random_number = random.randint(1,4) \n",
    "    if (cropped_mask.shape == (chunkh, chunkw, chunkl)) & (cropped_img.shape == (chunkh, chunkw, chunkl)):\n",
    "        if random_number == 1:\n",
    "            cropped_mask = np.array(cropped_mask, dtype=np.bool)\n",
    "            return cropped_img, cropped_mask\n",
    "        elif random_number == 2:\n",
    "            cropped_img = tfa.image.rotate(cropped_img, tf.constant((2*np.pi)/2), interpolation=\"BILINEAR\")\n",
    "            cropped_mask = tfa.image.rotate(cropped_mask, tf.constant((2*np.pi)/2), interpolation=\"BILINEAR\")\n",
    "            cropped_img = np.array(cropped_img)\n",
    "            cropped_mask = np.array(cropped_mask, np.bool)\n",
    "            return cropped_img, cropped_mask\n",
    "        elif random_number == 3:\n",
    "            cropped_img = tf.image.flip_left_right(cropped_img)\n",
    "            cropped_mask = tf.image.flip_left_right(cropped_mask)\n",
    "            cropped_img = tf.image.flip_up_down(cropped_img)\n",
    "            cropped_mask = tf.image.flip_up_down(cropped_mask) \n",
    "            cropped_img = np.array(cropped_img)\n",
    "            cropped_mask = np.array(cropped_mask, np.bool)\n",
    "            return cropped_img, cropped_mask\n",
    "        else:\n",
    "            cropped_img = tfa.image.rotate(cropped_img, tf.constant((2*np.pi)/2), interpolation=\"BILINEAR\")\n",
    "            cropped_mask = tfa.image.rotate(cropped_mask, tf.constant((2*np.pi)/2), interpolation=\"BILINEAR\")\n",
    "            cropped_img = tf.image.flip_left_right(cropped_img)\n",
    "            cropped_mask = tf.image.flip_left_right(cropped_mask)\n",
    "            cropped_img = tf.image.flip_up_down(cropped_img)\n",
    "            cropped_mask = tf.image.flip_up_down(cropped_mask) \n",
    "            cropped_img = np.array(cropped_img)\n",
    "            cropped_mask = np.array(cropped_mask, np.bool)\n",
    "            return cropped_img, cropped_mask\n"
   ]
  },
  {
   "cell_type": "markdown",
   "metadata": {},
   "source": [
    "### Noise Function "
   ]
  },
  {
   "cell_type": "code",
   "execution_count": null,
   "metadata": {},
   "outputs": [],
   "source": [
    "def add_noise(img, nmean=10, nstd=10):\n",
    "    # generate random Gaussian values\n",
    "    from numpy.random import seed\n",
    "    from numpy.random import randn\n",
    "    # seed random number generator\n",
    "    seed(1)\n",
    "    sz = img.shape;\n",
    "#     nmean = 10; # mean in Gaussian distribution\n",
    "#     nstd = 10; # std in Gaussian distribution        \n",
    "    noise_image = randn(sz[0], sz[1], sz[2]) * nstd + nmean;\n",
    "    raw_image_with_noise = img + noise_image;\n",
    "    raw_image_with_noise = raw_image_with_noise * (img > 0); # only add noise to the location with intensity.\n",
    "    return raw_image_with_noise"
   ]
  },
  {
   "cell_type": "markdown",
   "metadata": {},
   "source": [
    "### Adding Noise On Crops With Desired Noise Level \n",
    "Noise levels will range from μ = [30, 35, 40] and σ = [20, 24, 28]. "
   ]
  },
  {
   "cell_type": "code",
   "execution_count": null,
   "metadata": {},
   "outputs": [],
   "source": [
    "def add_noise_on_crop(cropped_img, noise_level):\n",
    "    if noise_level == 1: \n",
    "        cropped_img = add_noise(cropped_img, nmean=30 , nstd=20)\n",
    "        return cropped_img\n",
    "    elif noise_level == 2: \n",
    "        cropped_img = add_noise(cropped_img, nmean=35 , nstd=20)\n",
    "        return cropped_img\n",
    "    elif noise_level == 3: \n",
    "        cropped_img = add_noise(cropped_img, nmean=40 , nstd=20)\n",
    "        return cropped_img\n",
    "    elif noise_level == 4: \n",
    "        cropped_img = add_noise(cropped_img, nmean=30 , nstd=24)\n",
    "        return cropped_img\n",
    "    elif noise_level == 5: \n",
    "        cropped_img = add_noise(cropped_img, nmean=35 , nstd=24)\n",
    "        return cropped_img\n",
    "    elif noise_level == 6: \n",
    "        cropped_img = add_noise(cropped_img, nmean=40 , nstd=24)\n",
    "        return cropped_img\n",
    "    elif noise_level == 7:\n",
    "        cropped_img = add_noise(cropped_img, nmean=30 , nstd=28)\n",
    "        return cropped_img\n",
    "    elif noise_level == 8: \n",
    "        cropped_img = add_noise(cropped_img, nmean=35 , nstd=28)\n",
    "        return cropped_img\n",
    "    elif noise_level == 9: \n",
    "        cropped_img = add_noise(cropped_img, nmean=40 , nstd =28)\n",
    "        return cropped_img\n",
    "    else:\n",
    "        print('Noise Level {}'.format(noise_level) + ' is out of bounds. Please use a number between 1-9 inclusive.')"
   ]
  },
  {
   "cell_type": "markdown",
   "metadata": {},
   "source": [
    "# Creating Training and Testing Datasets"
   ]
  },
  {
   "cell_type": "markdown",
   "metadata": {},
   "source": [
    "## Training Data"
   ]
  },
  {
   "cell_type": "code",
   "execution_count": null,
   "metadata": {},
   "outputs": [],
   "source": [
    "counter = 0\n",
    "while counter < 300: \n",
    "    cropped_img, cropped_mask = random_augmentation(img1, mask1, 64, 128, 128, 190, 656, 1010)\n",
    "    imwrite('/clusterfs/fiona/zeeshan/cropped_imgs/raw_data/no_noise/cropped_img_' + f\"{counter:03}\" + '.tif', cropped_img)\n",
    "    imwrite('/clusterfs/fiona/zeeshan/cropped_masks/raw_data/no_noise/cropped_mask_' + f\"{counter:03}\" + '.tif', cropped_mask)\n",
    "    counter +=1\n",
    "counter = 300\n",
    "while counter < 600: \n",
    "    cropped_img, cropped_mask = random_augmentation(img2, mask2, 64, 128, 128, 282, 750, 890)\n",
    "    imwrite('/clusterfs/fiona/zeeshan/cropped_imgs/raw_data/no_noise/cropped_img_' + f\"{counter:03}\" + '.tif', cropped_img)\n",
    "    imwrite('/clusterfs/fiona/zeeshan/cropped_masks/raw_data/no_noise/cropped_mask_' + f\"{counter:03}\" + '.tif', cropped_mask)\n",
    "    counter +=1\n",
    "\n",
    "counter = 600\n",
    "while counter < 900: \n",
    "    cropped_img, cropped_mask = random_augmentation(img3, mask3, 64, 128, 128, 99, 1200, 1134)\n",
    "    imwrite('/clusterfs/fiona/zeeshan/cropped_imgs/raw_data/no_noise/cropped_img_' + f\"{counter:03}\" + '.tif', cropped_img)\n",
    "    imwrite('/clusterfs/fiona/zeeshan/cropped_masks/raw_data/no_noise/cropped_mask_' + f\"{counter:03}\" + '.tif', cropped_mask)\n",
    "    counter +=1\n",
    "counter = 0\n",
    "img4_n = add_noise(img4, nmean=25, nstd=10)\n",
    "while counter < 300: \n",
    "    cropped_img, cropped_mask = random_augmentation(img4_n, mask4, 64, 128, 128, 259, 657, 894)\n",
    "    imwrite('/clusterfs/fiona/zeeshan/cropped_imgs/raw_data/no_noise/cropped_img_' + f\"{counter:03}\" + '.tif', cropped_img)\n",
    "    imwrite('/clusterfs/fiona/zeeshan/cropped_masks/raw_data/no_noise/cropped_mask_' + f\"{counter:03}\" + '.tif', cropped_mask)\n",
    "    counter +=1\n",
    "    \n",
    "counter = 300\n",
    "img5_n = add_noise(img5, nmean=25, nstd=10)\n",
    "while counter < 600: \n",
    "    cropped_img, cropped_mask = random_augmentation(img5_n, mask5, 64, 128, 128, 267, 658, 885)\n",
    "    imwrite('/clusterfs/fiona/zeeshan/cropped_imgs/raw_data/noise_level_1/cropped_img_' + f\"{counter:03}\" + '.tif', cropped_img)\n",
    "    imwrite('/clusterfs/fiona/zeeshan/cropped_masks/raw_data/noise_level_1/cropped_mask_' + f\"{counter:03}\" + '.tif', cropped_mask)\n",
    "    counter +=1\n",
    "\n",
    "counter = 600\n",
    "img6_n = add_noise(img6, nmean=25, nstd=10)\n",
    "while counter < 900: \n",
    "    cropped_img, cropped_mask = random_augmentation(img6_n, mask6, 64, 128, 128, 196, 794, 970)\n",
    "    imwrite('/clusterfs/fiona/zeeshan/cropped_imgs/raw_data/noise_level_1/cropped_img_' + f\"{counter:03}\" + '.tif', cropped_img)\n",
    "    imwrite('/clusterfs/fiona/zeeshan/cropped_masks/raw_data/noise_level_1/cropped_mask_' + f\"{counter:03}\" + '.tif', cropped_mask)\n",
    "    counter +=1\n",
    "\n",
    "# counter = 400\n",
    "# img7_n = add_noise(img7, nmean=25, nstd=10)\n",
    "# while counter < 600: \n",
    "#     cropped_img, cropped_mask = random_augmentation(img7_n, mask7, 64, 128, 128, 158, 1285, 872)\n",
    "#     imwrite('/clusterfs/fiona/zeeshan/cropped_imgs/raw_data/noise_level_1/cropped_img_' + f\"{counter:03}\" + '.tif', cropped_img)\n",
    "#     imwrite('/clusterfs/fiona/zeeshan/cropped_masks/raw_data/noise_level_1/cropped_mask_' + f\"{counter:03}\" + '.tif', cropped_mask)\n",
    "#     counter +=1\n",
    "# counter = 600\n",
    "# img8_n = add_noise(img8, nmean=25, nstd=10)\n",
    "# while counter < 800: \n",
    "#     cropped_img, cropped_mask = random_augmentation(img8_n, mask8, 64, 128, 128, 407, 662, 755)\n",
    "#     imwrite('/clusterfs/fiona/zeeshan/cropped_imgs/raw_data/noise_level_1/cropped_img_' + f\"{counter:03}\" + '.tif', cropped_img)\n",
    "#     imwrite('/clusterfs/fiona/zeeshan/cropped_masks/raw_data/noise_level_1/cropped_mask_' + f\"{counter:03}\" + '.tif', cropped_mask)\n",
    "#     counter +=1\n",
    "    \n",
    "counter = 0\n",
    "img9_n2 = add_noise(img9, nmean=30, nstd=18)\n",
    "while counter < 300: \n",
    "    cropped_img, cropped_mask = random_augmentation(img9_n2, mask9, 64, 128, 128, 163, 800, 850)\n",
    "    imwrite('/clusterfs/fiona/zeeshan/cropped_imgs/raw_data/noise_level_2/cropped_img_' + f\"{counter:03}\" + '.tif', cropped_img)\n",
    "    imwrite('/clusterfs/fiona/zeeshan/cropped_masks/raw_data/noise_level_2/cropped_mask_' + f\"{counter:03}\" + '.tif', cropped_mask)\n",
    "    counter +=1\n",
    "counter = 300\n",
    "img10_n2 = add_noise(img10, nmean=30, nstd=18)\n",
    "while counter < 600: \n",
    "    cropped_img, cropped_mask = random_augmentation(img10_n2, mask10, 64, 128, 128, 149, 800, 850)\n",
    "    imwrite('/clusterfs/fiona/zeeshan/cropped_imgs/raw_data/noise_level_2/cropped_img_' + f\"{counter:03}\" + '.tif', cropped_img)\n",
    "    imwrite('/clusterfs/fiona/zeeshan/cropped_masks/raw_data/noise_level_2/cropped_mask_' + f\"{counter:03}\" + '.tif', cropped_mask)\n",
    "    counter +=1\n",
    "\n",
    "counter = 600\n",
    "img11_n2 = add_noise(img11, nmean=30, nstd=18)\n",
    "while counter < 900: \n",
    "    cropped_img, cropped_mask = random_augmentation(img11_n2, mask11, 64, 128, 128, 142, 800, 850)\n",
    "    imwrite('/clusterfs/fiona/zeeshan/cropped_imgs/raw_data/noise_level_2/cropped_img_' + f\"{counter:03}\" + '.tif', cropped_img)\n",
    "    imwrite('/clusterfs/fiona/zeeshan/cropped_masks/raw_data/noise_level_2/cropped_mask_' + f\"{counter:03}\" + '.tif', cropped_mask)\n",
    "    counter +=1\n",
    "# counter = 600\n",
    "# img8_n2 = add_noise(img8, nmean=30, nstd=18)\n",
    "# while counter < 800: \n",
    "#     cropped_img, cropped_mask = random_augmentation(img8_n2, mask8, 64, 128, 128, 407, 662, 755)\n",
    "#     imwrite('/clusterfs/fiona/zeeshan/cropped_imgs/raw_data/noise_level_2/cropped_img_' + f\"{counter:03}\" + '.tif', cropped_img)\n",
    "#     imwrite('/clusterfs/fiona/zeeshan/cropped_masks/raw_data/noise_level_2/cropped_mask_' + f\"{counter:03}\" + '.tif', cropped_mask)\n",
    "#     counter +=1\n",
    "\n",
    "print('Done!')"
   ]
  },
  {
   "cell_type": "markdown",
   "metadata": {},
   "source": [
    "## Testing Data "
   ]
  },
  {
   "cell_type": "code",
   "execution_count": null,
   "metadata": {},
   "outputs": [],
   "source": [
    "counter = 0\n",
    "while counter < 25: \n",
    "    cropped_img, cropped_mask = random_augmentation(img3, mask3, 64, 128, 128, 99, 1200, 1134)\n",
    "    imwrite('/clusterfs/fiona/zeeshan/cropped_test_imgs/raw_data/no_noise/cropped_img_' + f\"{counter:03}\" + '.tif', cropped_img)\n",
    "    imwrite('/clusterfs/fiona/zeeshan/cropped_test_masks/raw_data/no_noise/cropped_mask_' + f\"{counter:03}\" + '.tif', cropped_mask)\n",
    "    counter +=1\n",
    "counter = 0\n",
    "img11_n1 = add_noise(img11, nmean=25, nstd=10)\n",
    "while counter < 25: \n",
    "    cropped_img, cropped_mask = random_augmentation(img11_n1, mask11, 64, 128, 128, 142, 800, 850)\n",
    "    imwrite('/clusterfs/fiona/zeeshan/cropped_test_imgs/raw_data/noise_level_1/cropped_img_' + f\"{counter:03}\" + '.tif', cropped_img)\n",
    "    imwrite('/clusterfs/fiona/zeeshan/cropped_test_masks/raw_data/noise_level_1/cropped_mask_' + f\"{counter:03}\" + '.tif', cropped_mask)\n",
    "    counter +=1\n",
    "counter = 0\n",
    "img6_n2 = add_noise(img6, nmean=30, nstd=18)\n",
    "while counter < 25: \n",
    "    cropped_img, cropped_mask = random_augmentation(img6_n2, mask6, 64, 128, 128, 196, 794, 970)\n",
    "    imwrite('/clusterfs/fiona/zeeshan/cropped_test_imgs/raw_data/noise_level_2/cropped_img_' + f\"{counter:03}\" + '.tif', cropped_img)\n",
    "    imwrite('/clusterfs/fiona/zeeshan/cropped_test_masks/raw_data/noise_level_2/cropped_mask_' + f\"{counter:03}\" + '.tif', cropped_mask)\n",
    "    counter +=1\n",
    "print('Done!')"
   ]
  }
 ],
 "metadata": {
  "kernelspec": {
   "display_name": "Python master",
   "language": "python",
   "name": "master"
  },
  "language_info": {
   "codemirror_mode": {
    "name": "ipython",
    "version": 3
   },
   "file_extension": ".py",
   "mimetype": "text/x-python",
   "name": "python",
   "nbconvert_exporter": "python",
   "pygments_lexer": "ipython3",
   "version": "3.7.7"
  }
 },
 "nbformat": 4,
 "nbformat_minor": 2
}
