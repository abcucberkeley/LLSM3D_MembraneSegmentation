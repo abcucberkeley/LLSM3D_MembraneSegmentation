{
 "cells": [
  {
   "cell_type": "markdown",
   "metadata": {},
   "source": [
    "# Initial Imports"
   ]
  },
  {
   "cell_type": "code",
   "execution_count": 1,
   "metadata": {},
   "outputs": [],
   "source": [
    "from __future__ import print_function\n",
    "import numpy as np\n",
    "import matplotlib.pyplot as plt\n",
    "import tensorflow as tf\n",
    "from ipywidgets import interact, interactive, fixed, interact_manual\n",
    "import ipywidgets as widgets\n",
    "import tifffile\n",
    "from mpl_toolkits.axes_grid1 import make_axes_locatable\n",
    "from tqdm import tqdm\n",
    "import math"
   ]
  },
  {
   "cell_type": "markdown",
   "metadata": {},
   "source": [
    "# Load Model"
   ]
  },
  {
   "cell_type": "code",
   "execution_count": null,
   "metadata": {},
   "outputs": [],
   "source": [
    "i = input('Enter the file path for your trained 3D U-Net model \\n')\n",
    "model = tf.keras.models.load_model('{}'.format(i))"
   ]
  },
  {
   "cell_type": "markdown",
   "metadata": {},
   "source": [
    "# Load Data"
   ]
  },
  {
   "cell_type": "code",
   "execution_count": null,
   "metadata": {},
   "outputs": [],
   "source": [
    "seed = 42\n",
    "np.random.seed = seed\n",
    "\n",
    "\n",
    "IMG_WIDTH = int(input('Please input the image x dimension \\n'))\n",
    "IMG_HEIGHT = int(input('Please input the image y dimension \\n'))\n",
    "IMG_DEPTH = int(input('Please input the image z dimension \\n'))\n",
    "IMG_CHANNELS = int(input('Please input the number of channels in the images \\n'))\n",
    "num_train_imgs = int(input('Please input the number of training images \\n'))\n",
    "num_test_imgs = int(input('Please input the number of testing images \\n'))\n",
    "\n",
    "x_train = np.zeros((num_train_imgs, IMG_DEPTH, IMG_HEIGHT, IMG_WIDTH), dtype=np.uint8)\n",
    "y_train = np.zeros((num_train_imgs, IMG_DEPTH, IMG_HEIGHT, IMG_WIDTH), dtype=np.bool)\n",
    "\n",
    "x_test = np.zeros((num_test_imgs, IMG_DEPTH, IMG_HEIGHT, IMG_WIDTH), dtype=np.uint8)\n",
    "y_test = np.zeros((num_test_imgs, IMG_DEPTH, IMG_HEIGHT, IMG_WIDTH), dtype=np.uint8)\n",
    "\n",
    "# Use your own file paths\n",
    "counter = 0\n",
    "while counter < num_train_imgs: \n",
    "    x_train[counter] = tifffile.imread('file_path_to_cropped_imgs_'+f\"{counter:03}\" + '.tif')\n",
    "    y_train[counter] = tifffile.imread('file_path_to_cropped_masks_'+f\"{counter:03}\" + '.tif')\n",
    "    counter +=1\n",
    "\n",
    "counter = 0\n",
    "while counter < num_test_imgs:\n",
    "    x_test[counter] = tifffile.imread('file_path_to_cropped_imgs_' + f\"{counter:03}\" + '.tif')\n",
    "    y_test[counter] = tifffile.imread('file_path_to_cropped_masks_' + f\"{counter:03}\" + '.tif')\n",
    "    counter+=1\n",
    "print('Finished Loading Data!')"
   ]
  },
  {
   "cell_type": "markdown",
   "metadata": {},
   "source": [
    "# Using Model to Predict on Data"
   ]
  },
  {
   "cell_type": "code",
   "execution_count": null,
   "metadata": {},
   "outputs": [],
   "source": [
    "# Use this block for training images\n",
    "img_number = int(input('Please input which training image you would like to run a prediction on \\n'))\n",
    "if img_number < len(x_train):\n",
    "    img = x_train[img_number]\n",
    "    gt = y_train[img_number]\n",
    "    pd = model.predict(img.reshape([1, img.shape[0], img.shape[1], img.shape[2], 1]), verbose=1)\n",
    "    print('Prediction Complete!')\n",
    "else: \n",
    "    print('This number is out of range for the x_train array size.')"
   ]
  },
  {
   "cell_type": "code",
   "execution_count": null,
   "metadata": {},
   "outputs": [],
   "source": [
    "# Use this block for testing images\n",
    "img_number2 = int(input('Please input which testing image you would like to run a prediction on \\n'))\n",
    "if img_number < len(x_test):\n",
    "    img = x_test[img_number2]\n",
    "    gt = y_test[img_number2]\n",
    "    pd = model.predict(img.reshape([1, img.shape[0], img.shape[1], img.shape[2], 1]), verbose=1)\n",
    "    print('Prediction Complete!')\n",
    "else: \n",
    "    print('This number is out of range for the x_test array size.')"
   ]
  },
  {
   "cell_type": "markdown",
   "metadata": {},
   "source": [
    "# Preprocessing the Prediction"
   ]
  },
  {
   "cell_type": "code",
   "execution_count": null,
   "metadata": {},
   "outputs": [],
   "source": [
    "def pd_preprocessing(pd):\n",
    "    label = pd\n",
    "    label = np.squeeze(label)\n",
    "    label = np.transpose(label, (3, 0, 1, 2))\n",
    "    label = label[1]\n",
    "    return label\n",
    "\n",
    "label = pd_preprocessing(pd)\n",
    "print('Done')"
   ]
  },
  {
   "cell_type": "markdown",
   "metadata": {},
   "source": [
    "# Testing Model Prediction "
   ]
  },
  {
   "cell_type": "code",
   "execution_count": null,
   "metadata": {},
   "outputs": [],
   "source": [
    "# Run to view an interactive slider plot to view all slices of raw image, prediction, and GT label\n",
    "def normal_plot(x):\n",
    "    fig = plt.figure(figsize=(22,17))\n",
    "    plt.suptitle('U-Net Output', fontsize=40)\n",
    "    ax1 = fig.add_subplot(231)\n",
    "    plt.title('Raw Image', fontsize=30)\n",
    "    im1 = ax1.imshow(img[x], interpolation='None')\n",
    "    divider = make_axes_locatable(ax1)\n",
    "    cax = divider.append_axes('right', size='5%', pad=0.05)\n",
    "    fig.colorbar(im1, cax=cax, orientation='vertical')\n",
    "    \n",
    "    ax2 = fig.add_subplot(232)\n",
    "    plt.title('Predicted Label', fontsize=30)\n",
    "    im2 = ax2.imshow(label[x], interpolation='None')\n",
    "    divider = make_axes_locatable(ax2)\n",
    "    cax = divider.append_axes('right', size='5%', pad=0.05)\n",
    "    fig.colorbar(im2, cax=cax, orientation='vertical')\n",
    "    \n",
    "    ax3 = fig.add_subplot(233)\n",
    "    plt.title('GT Label', fontsize=24)\n",
    "    im3 = ax3.imshow(gt[x], interpolation='None')\n",
    "    divider = make_axes_locatable(ax3)\n",
    "    cax = divider.append_axes('right', size='5%', pad=0.05)\n",
    "    fig.colorbar(im3, cax=cax, orientation='vertical')  \n",
    "    return x\n",
    "interact(normal_plot, x=(0, len(label)-1))\n"
   ]
  }
 ],
 "metadata": {
  "kernelspec": {
   "display_name": "Python master",
   "language": "python",
   "name": "master"
  },
  "language_info": {
   "codemirror_mode": {
    "name": "ipython",
    "version": 3
   },
   "file_extension": ".py",
   "mimetype": "text/x-python",
   "name": "python",
   "nbconvert_exporter": "python",
   "pygments_lexer": "ipython3",
   "version": "3.7.7"
  }
 },
 "nbformat": 4,
 "nbformat_minor": 2
}
